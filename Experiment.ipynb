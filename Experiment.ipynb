{
 "cells": [
  {
   "cell_type": "code",
   "execution_count": 25,
   "metadata": {
    "collapsed": true,
    "pycharm": {
     "is_executing": false
    }
   },
   "outputs": [],
   "source": [
    "import csv\n",
    "\n",
    "from sklearn.feature_extraction.text import CountVectorizer\n",
    "from sklearn.model_selection import train_test_split\n",
    "from sklearn.naive_bayes import MultinomialNB\n",
    "from sklearn.metrics import accuracy_score\n",
    "from sklearn.metrics import roc_curve\n",
    "import matplotlib.pyplot as plt\n",
    "\n",
    "import random\n",
    "\n",
    "articleWordsPath = './data/ArticleWords/'\n",
    "dataFile = './data/data.csv'"
   ]
  },
  {
   "cell_type": "code",
   "execution_count": 3,
   "outputs": [],
   "source": [
    "Y = []\n",
    "data = []\n",
    "\n",
    "counter = 0\n",
    "with open(dataFile) as f:\n",
    "    reader = csv.reader(f)\n",
    "    for line in reader:\n",
    "        if line[0] == \"hash\" or line[6] == \"NULL\":\n",
    "            continue\n",
    "        counter += 1\n",
    "        deltaT = float(line[6]) - float(line[3]) / 60.0\n",
    "        deltaIncrease = float(line[5]) / float(line[4])\n",
    "        if deltaT < 0:\n",
    "            continue\n",
    "        if deltaT > 3 and deltaIncrease > 1.00:\n",
    "            Y.append((1, deltaIncrease))\n",
    "        else:\n",
    "            Y.append((0,deltaIncrease))\n",
    "        #read the words from the article\n",
    "        with open(articleWordsPath+line[0]+\".txt\", 'r', encoding=\"utf-8\") as wordFile:\n",
    "            words = wordFile.readlines()\n",
    "            turnToString = []\n",
    "            for word in range(len(words)):\n",
    "                words[word] = words[word].replace('\\n', '')\n",
    "                turnToString.append(words[word])\n",
    "            data.append(' '.join(turnToString))\n",
    "            \n",
    "matrix = CountVectorizer() #max_features=317\n",
    "X = matrix.fit_transform(data).toarray()\n",
    "X_train, X_test, Y_train, Y_test = train_test_split(X, Y)\n",
    "\n"
   ],
   "metadata": {
    "collapsed": false,
    "pycharm": {
     "name": "#%%\n",
     "is_executing": false
    }
   }
  },
  {
   "cell_type": "code",
   "execution_count": 5,
   "outputs": [],
   "source": [
    "Y_train = [i[0] for i in Y_train] #split Y_train into just the classifications\n",
    "Y_test_values = [i[1] for i in Y_test]\n",
    "Y_test = [i[0] for i in Y_test]\n",
    "cp = sum(Y_train)/len(Y_train)\n",
    "classifier = MultinomialNB()\n",
    "classifier.fit(X_train, Y_train)\n",
    "Y_pred = classifier.predict(X_test)\n",
    "accuracy = accuracy_score(Y_test, Y_pred)"
   ],
   "metadata": {
    "collapsed": false,
    "pycharm": {
     "name": "#%%\n",
     "is_executing": false
    }
   }
  },
  {
   "cell_type": "code",
   "execution_count": 33,
   "outputs": [
    {
     "name": "stdout",
     "text": [
      "\tTrue Positive:  0.7884615384615384\n",
      "\tTrue Negative:  0.019230769230769232\n",
      "\tFalse Positive:  0.0641025641025641\n",
      "\tFalse Negative:  0.1282051282051282\n",
      "\tSensitivity: 0.8601398601398601\n",
      "\tSpecificity: 0.23076923076923078\n",
      "\tOverall Accuracy: 0.8076923076923077\n"
     ],
     "output_type": "stream"
    }
   ],
   "source": [
    "truePos = 0\n",
    "trueNeg = 0\n",
    "falsePos = 0\n",
    "falseNeg = 0\n",
    "for i in range(len(Y_test)):\n",
    "    if Y_pred[i] == 1 and Y_pred[i] == Y_test[i]:\n",
    "        truePos += 1\n",
    "    elif Y_pred[i] == 0 and Y_pred[i] == Y_test[i]:\n",
    "        trueNeg += 1\n",
    "    elif Y_pred[i] == 1 and Y_pred[i] != Y_test[i]:\n",
    "        falsePos += 1\n",
    "    else:\n",
    "        falseNeg +=1\n",
    "print(\"\\tTrue Positive: \", truePos/len(Y_test))\n",
    "print(\"\\tTrue Negative: \", trueNeg/len(Y_test))\n",
    "print(\"\\tFalse Positive: \", falsePos/len(Y_test))\n",
    "print(\"\\tFalse Negative: \", falseNeg/len(Y_test))\n",
    "print(\"\\tSensitivity:\", truePos/(truePos+falseNeg))\n",
    "print(\"\\tSpecificity:\", trueNeg/(trueNeg+falsePos))\n",
    "print(\"\\tOverall Accuracy:\", accuracy)\n"
   ],
   "metadata": {
    "collapsed": false,
    "pycharm": {
     "name": "#%%\n",
     "is_executing": false
    }
   }
  },
  {
   "cell_type": "code",
   "execution_count": 30,
   "outputs": [
    {
     "name": "stdout",
     "text": [
      "Starting Balance: $100\n",
      "Investment Amount: 25%\n",
      "Ending Balance: $ 642.4478693462355\n"
     ],
     "output_type": "stream"
    }
   ],
   "source": [
    "balance = 100.00\n",
    "balanceOverTime = [100.00]\n",
    "print(\"Starting Balance: $100\\nInvestment Amount: 25%\")\n",
    "balance50 = 100.00\n",
    "balance50OverTime = [100.00]\n",
    "random.seed(766016280)\n",
    "for i in range(len(Y_pred)):\n",
    "    if Y_pred[i] == 1:\n",
    "        #get 10% of the current balance because you'd never risk everything at once\n",
    "        testMoney = balance * .25\n",
    "        #withdraw from account\n",
    "        balance -= testMoney\n",
    "        testMoney *=  Y_test_values[i]\n",
    "        #sell and put back into account\n",
    "        balance += testMoney\n",
    "        balanceOverTime.append(balance)\n",
    "    else:\n",
    "        balanceOverTime.append(balance)\n",
    "    if random.random() > .5:\n",
    "        testMoney = balance50 * .25\n",
    "        balance50 -= testMoney\n",
    "        testMoney *= Y_test_values[i]\n",
    "        balance50 += testMoney\n",
    "        balance50OverTime.append(balance50)\n",
    "    else:\n",
    "        balance50OverTime.append(balance50)\n",
    "\n",
    "    # else we do nothing because the classifier told us to take no action\n",
    "print(\"Ending Balance: $\", balance)\n",
    "# is about 4 Days worth of running"
   ],
   "metadata": {
    "collapsed": false,
    "pycharm": {
     "name": "#%%\n",
     "is_executing": false
    }
   }
  },
  {
   "cell_type": "code",
   "execution_count": 32,
   "outputs": [
    {
     "data": {
      "text/plain": "<Figure size 432x288 with 1 Axes>",
      "image/png": "[encoded data removed]"
     },
     "metadata": {
      "needs_background": "light"
     },
     "output_type": "display_data"
    }
   ],
   "source": [
    "plt.title(\"Balance after each article is published\")\n",
    "plt.xlabel(\"Number of articles published\")\n",
    "plt.ylabel(\"Balance in USD\")\n",
    "plt.plot(balanceOverTime, color=\"red\")\n",
    "plt.plot(balance50OverTime, color=\"blue\")\n",
    "plt.legend(['classifier', 'random'])\n",
    "plt.savefig(\"BalanceOverTime.png\")\n",
    "plt.show()"
   ],
   "metadata": {
    "collapsed": false,
    "pycharm": {
     "name": "#%%\n",
     "is_executing": false
    }
   }
  },
  {
   "cell_type": "code",
   "execution_count": 23,
   "outputs": [
    {
     "data": {
      "text/plain": "'\\nY_proba = classifier.predict_proba(X_test)\\n\\nfalse_positive_rate, true_positive_rate, thresh = roc_curve(Y_test, Y_proba)\\nplt.title(\"ROC\")\\nplt.xlabel(\"False Positive Rate\")\\nplt.ylabel(\"True Positive Rate\")\\nplt.plot(false_positive_rate, true_positive_rate, color=\"red\")\\nplt.plot([0,1],[0,1], color=\"blue\", linestyle=\\'--\\')\\nplt.show()'"
     },
     "metadata": {},
     "output_type": "execute_result",
     "execution_count": 23
    }
   ],
   "source": [
    "'''\n",
    "Y_proba = classifier.predict_proba(X_test)\n",
    "\n",
    "false_positive_rate, true_positive_rate, thresh = roc_curve(Y_test, Y_proba)\n",
    "plt.title(\"ROC\")\n",
    "plt.xlabel(\"False Positive Rate\")\n",
    "plt.ylabel(\"True Positive Rate\")\n",
    "plt.plot(false_positive_rate, true_positive_rate, color=\"red\")\n",
    "plt.plot([0,1],[0,1], color=\"blue\", linestyle='--')\n",
    "plt.show()'''"
   ],
   "metadata": {
    "collapsed": false,
    "pycharm": {
     "name": "#%%\n",
     "is_executing": false
    }
   }
  }
 ],
 "metadata": {
  "kernelspec": {
   "display_name": "Python 3",
   "language": "python",
   "name": "python3"
  },
  "language_info": {
   "codemirror_mode": {
    "name": "ipython",
    "version": 2
   },
   "file_extension": ".py",
   "mimetype": "text/x-python",
   "name": "python",
   "nbconvert_exporter": "python",
   "pygments_lexer": "ipython2",
   "version": "2.7.6"
  },
  "pycharm": {
   "stem_cell": {
    "cell_type": "raw",
    "source": [],
    "metadata": {
     "collapsed": false
    }
   }
  }
 },
 "nbformat": 4,
 "nbformat_minor": 0
}